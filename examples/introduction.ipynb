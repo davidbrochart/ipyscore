{
 "cells": [
  {
   "cell_type": "markdown",
   "metadata": {},
   "source": [
    "# Introduction"
   ]
  },
  {
   "cell_type": "code",
   "execution_count": null,
   "metadata": {},
   "outputs": [],
   "source": [
    "from ipyscore import Widget"
   ]
  },
  {
   "cell_type": "code",
   "execution_count": null,
   "metadata": {},
   "outputs": [],
   "source": [
    "widget = Widget(width=500, height=300)\n",
    "widget"
   ]
  },
  {
   "cell_type": "code",
   "execution_count": null,
   "metadata": {},
   "outputs": [],
   "source": [
    "score = widget.new_score()\n",
    "system = widget.new_system()"
   ]
  },
  {
   "cell_type": "code",
   "execution_count": null,
   "metadata": {},
   "outputs": [],
   "source": [
    "voices = [\n",
    "    score.voice(\n",
    "        score.notes(\"C#5/q, B4\", stem=\"up\").concat(\n",
    "            score.beam(score.notes(\"A4/8, E4, C4, D4\", stem=\"up\"))\n",
    "        )\n",
    "    ),\n",
    "    score.voice(\n",
    "        score.notes(\"C#4/h, C#4\", stem=\"down\")\n",
    "    ),\n",
    "]"
   ]
  },
  {
   "cell_type": "code",
   "execution_count": null,
   "metadata": {},
   "outputs": [],
   "source": [
    "stave = system.add_stave(voices=voices).add_clef(\"treble\").add_time_signature(\"4/4\")"
   ]
  },
  {
   "cell_type": "code",
   "execution_count": null,
   "metadata": {},
   "outputs": [],
   "source": [
    "voices = [\n",
    "    score.voice(\n",
    "        score.notes(\"C#3/q, B2, A2/8, B2\", clef=\"bass\", stem=\"up\").concat(\n",
    "            score.tuplet(score.beam(score.notes(\"C3/8, C#3, D3\", clef=\"bass\", stem=\"up\")))\n",
    "        )\n",
    "    ),\n",
    "    score.voice(\n",
    "        score.notes(\"C#2/h, C#2\", clef=\"bass\", stem=\"down\")\n",
    "    ),\n",
    "]"
   ]
  },
  {
   "cell_type": "code",
   "execution_count": null,
   "metadata": {},
   "outputs": [],
   "source": [
    "stave = system.add_stave(voices=voices).add_clef(\"bass\").add_time_signature(\"4/4\")"
   ]
  },
  {
   "cell_type": "code",
   "execution_count": null,
   "metadata": {},
   "outputs": [],
   "source": [
    "system.add_connector()"
   ]
  },
  {
   "cell_type": "code",
   "execution_count": null,
   "metadata": {},
   "outputs": [],
   "source": [
    "widget.draw()"
   ]
  }
 ],
 "metadata": {
  "kernelspec": {
   "display_name": "Python 3 (ipykernel)",
   "language": "python",
   "name": "python3"
  },
  "language_info": {
   "codemirror_mode": {
    "name": "ipython",
    "version": 3
   },
   "file_extension": ".py",
   "mimetype": "text/x-python",
   "name": "python",
   "nbconvert_exporter": "python",
   "pygments_lexer": "ipython3",
   "version": "3.11.4"
  }
 },
 "nbformat": 4,
 "nbformat_minor": 4
}
